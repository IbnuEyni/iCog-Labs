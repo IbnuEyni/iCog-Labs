{
  "nbformat": 4,
  "nbformat_minor": 0,
  "metadata": {
    "colab": {
      "provenance": [],
      "authorship_tag": "ABX9TyOwdg68epESJkXqLHuBh/S3",
      "include_colab_link": true
    },
    "kernelspec": {
      "name": "python3",
      "display_name": "Python 3"
    },
    "language_info": {
      "name": "python"
    }
  },
  "cells": [
    {
      "cell_type": "markdown",
      "metadata": {
        "id": "view-in-github",
        "colab_type": "text"
      },
      "source": [
        "<a href=\"https://colab.research.google.com/github/IbnuEyni/iCog-Labs/blob/main/Work_tasks/Test_Scripts.ipynb\" target=\"_parent\"><img src=\"https://colab.research.google.com/assets/colab-badge.svg\" alt=\"Open In Colab\"/></a>"
      ]
    },
    {
      "cell_type": "code",
      "execution_count": 17,
      "metadata": {
        "id": "Y2uNes90jA9L"
      },
      "outputs": [],
      "source": [
        "import pandas as pd\n",
        "#import drive package to connect this colab file with the drive where the data will be retrived from\n",
        "from google.colab import drive"
      ]
    },
    {
      "cell_type": "code",
      "source": [
        "#mount google drive to access the dataset directly from the drive\n",
        "drive.mount('/content/drive')"
      ],
      "metadata": {
        "colab": {
          "base_uri": "https://localhost:8080/"
        },
        "id": "gP47bgY1jTLm",
        "outputId": "b6a0f47b-7646-406e-c1a1-b9d2c0b8c77e"
      },
      "execution_count": 18,
      "outputs": [
        {
          "output_type": "stream",
          "name": "stdout",
          "text": [
            "Drive already mounted at /content/drive; to attempt to forcibly remount, call drive.mount(\"/content/drive\", force_remount=True).\n"
          ]
        }
      ]
    },
    {
      "cell_type": "code",
      "source": [
        "# Load the CSV file\n",
        "file_path = '/content/drive/MyDrive/normalized_data.csv'\n",
        "data = pd.read_csv(file_path)\n"
      ],
      "metadata": {
        "id": "qmTW6ilBjDZX"
      },
      "execution_count": 19,
      "outputs": []
    },
    {
      "cell_type": "code",
      "source": [
        "if 'PostContent' in data.columns and 'label' in data.columns:\n",
        "    # Modify the labels\n",
        "    print(data['label'].unique())\n",
        "    data['label'] = data['label'].apply(lambda x: 0 if x == 2 else (1 if x in [1, 3, 4] else x))\n",
        "\n",
        "    # Save the updated CSV\n",
        "    updated_file_path = '/content/drive/MyDrive/normalized_data_updated.csv'\n",
        "    data.to_csv(updated_file_path, index=False)\n",
        "    print(f\"Updated CSV saved to {updated_file_path}\")\n",
        "else:\n",
        "    print(\"The CSV file does not contain the required 'sentence' and 'label' fields.\")\n"
      ],
      "metadata": {
        "colab": {
          "base_uri": "https://localhost:8080/"
        },
        "id": "V6aG4QEFjOSZ",
        "outputId": "252a6ba1-d67c-496a-c852-43a0a233b759"
      },
      "execution_count": 20,
      "outputs": [
        {
          "output_type": "stream",
          "name": "stdout",
          "text": [
            "[1 2 3 4]\n",
            "Updated CSV saved to /content/drive/MyDrive/normalized_data_updated.csv\n"
          ]
        }
      ]
    },
    {
      "cell_type": "code",
      "source": [
        "def calculate_metrics(data, true_label_col, pred_label_col):\n",
        "    tp = tn = fp = fn = 0\n",
        "    for _, row in data.iterrows():\n",
        "        true_label = int(row[true_label_col])\n",
        "        pred_label = int(row[pred_label_col])\n",
        "        if true_label == 1 and pred_label == 1:\n",
        "            tp += 1\n",
        "        elif true_label == 0 and pred_label == 0:\n",
        "            tn += 1\n",
        "        elif true_label == 0 and pred_label == 1:\n",
        "            fp += 1\n",
        "        elif true_label == 1 and pred_label == 0:\n",
        "            fn += 1\n",
        "\n",
        "    accuracy = (tp + tn) / (tp + tn + fp + fn)\n",
        "    precision = tp / (tp + fp) if (tp + fp) > 0 else 0\n",
        "    recall = tp / (tp + fn) if (tp + fn) > 0 else 0\n",
        "\n",
        "    print(\"Confusion Matrix:\")\n",
        "    print(f\"TP: {tp}, FP: {fp}, FN: {fn}, TN: {tn}\")\n",
        "    print(f\"Accuracy: {accuracy:.2f}\")\n",
        "    print(f\"Precision: {precision:.2f}\")\n",
        "    print(f\"Recall: {recall:.2f}\")"
      ],
      "metadata": {
        "id": "WYABl8kUpLeP"
      },
      "execution_count": 21,
      "outputs": []
    },
    {
      "cell_type": "code",
      "source": [
        "file_path = '/content/drive/MyDrive/normalized_data_updated.csv'\n",
        "data = pd.read_csv(file_path)"
      ],
      "metadata": {
        "id": "Cp9Kvm9Yjru8"
      },
      "execution_count": 22,
      "outputs": []
    },
    {
      "cell_type": "code",
      "source": [
        "# Test with mock predictions (for demonstration, assuming 'pred_label' column exists)\n",
        "data['pred_label'] = data['label']  # Mock predictions for testing"
      ],
      "metadata": {
        "id": "yi6LB96OpPCX"
      },
      "execution_count": 23,
      "outputs": []
    },
    {
      "cell_type": "code",
      "source": [
        "calculate_metrics(data, true_label_col='label', pred_label_col='pred_label')"
      ],
      "metadata": {
        "colab": {
          "base_uri": "https://localhost:8080/"
        },
        "id": "t_IUTc2gpTvi",
        "outputId": "7859cf92-231b-4ecd-bd91-293cb4709c7f"
      },
      "execution_count": 24,
      "outputs": [
        {
          "output_type": "stream",
          "name": "stdout",
          "text": [
            "Confusion Matrix:\n",
            "TP: 3388, FP: 0, FN: 0, TN: 7440\n",
            "Accuracy: 1.00\n",
            "Precision: 1.00\n",
            "Recall: 1.00\n"
          ]
        }
      ]
    }
  ]
}